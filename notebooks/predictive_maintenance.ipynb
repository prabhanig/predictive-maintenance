{
  "nbformat": 4,
  "nbformat_minor": 0,
  "metadata": {
    "colab": {
      "provenance": []
    },
    "kernelspec": {
      "name": "python3",
      "display_name": "Python 3"
    },
    "language_info": {
      "name": "python"
    }
  },
  "cells": [
    {
      "cell_type": "code",
      "execution_count": null,
      "metadata": {
        "id": "sGnmsrDVv6N1"
      },
      "outputs": [],
      "source": [
        "{\n",
        " \"cells\": [\n",
        "  {\n",
        "   \"cell_type\": \"markdown\",\n",
        "   \"metadata\": {},\n",
        "   \"source\": [\n",
        "    \"# AI-Driven Predictive Maintenance\",\n",
        "    \"This notebook demonstrates predictive maintenance using machine learning models.\"\n",
        "   ]\n",
        "  },\n",
        "  {\n",
        "   \"cell_type\": \"code\",\n",
        "   \"execution_count\": null,\n",
        "   \"metadata\": {},\n",
        "   \"outputs\": [],\n",
        "   \"source\": [\n",
        "    \"import pandas as pd\\n\",\n",
        "    \"import numpy as np\\n\",\n",
        "    \"from sklearn.model_selection import train_test_split\\n\",\n",
        "    \"from sklearn.ensemble import RandomForestClassifier\\n\",\n",
        "    \"from sklearn.metrics import accuracy_score\\n\",\n",
        "    \"\\n\",\n",
        "    \"# Load dataset\\n\",\n",
        "    \"df = pd.read_csv('../data/predictive_maintenance.csv')\\n\",\n",
        "    \"\\n\",\n",
        "    \"# Convert categorical columns to numerical format\\n\",\n",
        "    \"df = pd.get_dummies(df, columns=['Type'])\\n\",\n",
        "    \"\\n\",\n",
        "    \"# Define features and target variable\\n\",\n",
        "    \"X = df.drop(columns=['maintenance_needed'])\\n\",\n",
        "    \"y = df['maintenance_needed']\\n\",\n",
        "    \"\\n\",\n",
        "    \"# Split data\\n\",\n",
        "    \"X_train, X_test, y_train, y_test = train_test_split(X, y, test_size=0.2, random_state=42)\\n\",\n",
        "    \"\\n\",\n",
        "    \"# Train model\\n\",\n",
        "    \"model = RandomForestClassifier(n_estimators=100, random_state=42)\\n\",\n",
        "    \"model.fit(X_train, y_train)\\n\",\n",
        "    \"\\n\",\n",
        "    \"# Predictions\\n\",\n",
        "    \"y_pred = model.predict(X_test)\\n\",\n",
        "    \"\\n\",\n",
        "    \"# Accuracy\\n\",\n",
        "    \"print('Model Accuracy:', accuracy_score(y_test, y_pred))\"\n",
        "   ]\n",
        "  }\n",
        " ],\n",
        " \"metadata\": {\n",
        "  \"kernelspec\": {\n",
        "   \"display_name\": \"Python 3\",\n",
        "   \"language\": \"python\",\n",
        "   \"name\": \"python3\"\n",
        "  },\n",
        "  \"language_info\": {\n",
        "   \"codemirror_mode\": {\n",
        "    \"name\": \"ipython\",\n",
        "    \"version\": 3\n",
        "   },\n",
        "   \"file_extension\": \".py\",\n",
        "   \"mimetype\": \"text/x-python\",\n",
        "   \"name\": \"python\",\n",
        "   \"nbconvert_exporter\": \"python\",\n",
        "   \"pygments_lexer\": \"ipython3\",\n",
        "   \"version\": \"3.8.10\"\n",
        "  }\n",
        " },\n",
        " \"nbformat\": 4,\n",
        " \"nbformat_minor\": 4\n",
        "}\n"
      ]
    }
  ]
}